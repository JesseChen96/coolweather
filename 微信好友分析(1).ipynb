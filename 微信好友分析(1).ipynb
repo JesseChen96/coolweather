{
 "cells": [
  {
   "cell_type": "code",
   "execution_count": null,
   "metadata": {},
   "outputs": [],
   "source": [
    "import itchat\n",
    "import numpy as np\n",
    "import os\n",
    "#from collections import Counter\n",
    "import matplotlib.pyplot as plt\n",
    "plt.rcParams['font.sans-serif']=['SimHei']#绘图时可以显示中文\n",
    "plt.rcParams['axes.unicode_minus']=False#绘图时可以显示中文\n",
    "#from wordcloud import WordCloud,STOPWORDS,ImageColorGenerator\n",
    "import re"
   ]
  },
  {
   "cell_type": "code",
   "execution_count": null,
   "metadata": {
    "scrolled": true
   },
   "outputs": [],
   "source": [
    "itchat.auto_login(hotReload = True)\n",
    "friends = itchat.get_friends(update = True)\n"
   ]
  },
  {
   "cell_type": "code",
   "execution_count": null,
   "metadata": {},
   "outputs": [],
   "source": [
    "import pandas as pd\n",
    "sex=list(map(lambda x:x['Sex'],friends[1:]))\n",
    "nickname=list(map(lambda x:x['NickName'],friends[1:]))\n",
    "signature=list(map(lambda x:x['Signature'],friends[1:]))\n",
    "province=list(map(lambda x:x['Province'],friends[1:]))\n",
    "city=list(map(lambda x:x['City'],friends[1:]))\n",
    "headimg=list(map(lambda x:x['HeadImgUrl'],friends[1:]))\n",
    "info={\"nickname\":nickname,\"sex\":sex,\"province\":province,\"city\":city,\"signature\":signature,'headimgurl':headimg}\n",
    "data=pd.DataFrame(info)\n",
    "data.head(10)"
   ]
  },
  {
   "cell_type": "code",
   "execution_count": null,
   "metadata": {},
   "outputs": [],
   "source": [
    "from pyecharts import Bar\n",
    "from collections import Counter\n",
    "city_5=Counter(city).most_common(5)\n",
    "# 返回出现次数最多的20条\n",
    "bar = Bar('好友所在城市TOP5', '', title_pos='center', width=800, height=500)\n",
    "attr, value = bar.cast(city_5)\n",
    "bar.add('', attr, value, is_visualmap=True, visual_text_color='#fff', is_more_utils=True,is_label_show=True)\n",
    "bar"
   ]
  },
  {
   "cell_type": "markdown",
   "metadata": {},
   "source": [
    "### 好友性别分析"
   ]
  },
  {
   "cell_type": "code",
   "execution_count": null,
   "metadata": {},
   "outputs": [],
   "source": [
    "from pyecharts import Pie\n",
    "sexs=list(map(lambda x:x['Sex'],friends[1:])) #提取好友性别\n",
    "value = [sexs.count(1), sexs.count(2), sexs.count(0)]#对性别进行计数\n",
    "sex_attr=['male','female','unknown']\n",
    "pie = Pie('好友性别比例', '好友总人数：%d' % len(sex), title_pos='center')\n",
    "pie.add('', sex_attr, value, radius=[30, 75], rosetype='area', is_label_show=True,is_legend_show=True, legend_top='bottom')\n",
    "# pie.show_config()\n",
    "pie\n",
    "#pie.render('好友性别比例.html')"
   ]
  },
  {
   "cell_type": "markdown",
   "metadata": {},
   "source": [
    "### 好友地理位置分析"
   ]
  },
  {
   "cell_type": "code",
   "execution_count": null,
   "metadata": {},
   "outputs": [],
   "source": [
    "from pyecharts import Map\n",
    "provinces_count = data.groupby('province', as_index=True)['province'].count().sort_values()\n",
    "attr = list(map(lambda x: x if x != '' else '未知', list(provinces_count.index)))#未填写地址的改为未知\n",
    "value = list(provinces_count)\n",
    "map_1 = Map(\"微信好友位置分布图\",title_pos=\"center\",width=1000, height=500)\n",
    "map_1.add('', attr, value, is_label_show=True, is_visualmap=True, visual_text_color='#000',visual_range=[0,120])\n",
    "map_1.render(path='/Users/ls/Desktop/微信好友分布.html')"
   ]
  },
  {
   "cell_type": "code",
   "execution_count": null,
   "metadata": {},
   "outputs": [],
   "source": [
    "from pyecharts import Map\n",
    "def get_attr(friends, key):\n",
    "    return list(map(lambda user: user.get(key), friends))\n",
    "\n",
    "def fun_pos(friends):\n",
    "    users = dict(province=get_attr(friends, \"Province\"),\n",
    "                 city=get_attr(friends, \"City\"),\n",
    "                 nickname=get_attr(friends, \"NickName\"))\n",
    "    provinces = pd.DataFrame(users)\n",
    "    provinces_count = provinces.groupby('province', as_index=True)['province'].count().sort_values()\n",
    "    attr = list(map(lambda x: x if x != '' else '未知', list(provinces_count.index)))#未填写地址的改为未知\n",
    "    value = list(provinces_count)\n",
    "    map_1 = Map(\"微信好友位置分布图\",title_pos=\"center\",width=1000, height=500)\n",
    "    map_1.add('', attr, value, is_label_show=True, is_visualmap=True, visual_text_color='#000',visual_range=[0,120])\n",
    "    map_1.render(path='/Users/ls/Desktop/好友分布.html')\n",
    "fun_pos(friends)"
   ]
  },
  {
   "cell_type": "code",
   "execution_count": null,
   "metadata": {},
   "outputs": [],
   "source": [
    "import wordcloud\n",
    "from wordcloud import WordCloud\n",
    "from wordcloud import ImageColorGenerator\n",
    "import jieba\n",
    "import jieba.analyse\n",
    "import snownlp\n",
    "from pyecharts import Bar\n",
    "signatures = ''\n",
    "emotions = []\n",
    "for friend in friends:\n",
    "    signature = friend['Signature']\n",
    "    if signature != None:\n",
    "        signature = signature.strip().replace(\"span\",\"\").replace(\"class\",\"\").replace(\"emoji\",\"\")#去除无关数据\n",
    "        signature = re.sub(r'1f(\\d.+)',\"\",signature)\n",
    "        \n",
    "    if len(signature) > 0:\n",
    "        nlp = snownlp.SnowNLP(signature)\n",
    "        emotions.append(nlp.sentiments)#nlp.sentiments：权值\n",
    "        signatures += \" \".join(jieba.analyse.extract_tags(signature,5)) #关键字提取\n",
    "back_coloring = np.array(Image.open(\"1.jpg\"))#图片可替换\n",
    "word_cloud2 = WordCloud(font_path = 'zt.ttf',\n",
    "                        background_color = 'white',\n",
    "                        max_words = 1200,\n",
    "                        mask = back_coloring,\n",
    "                        margin = 15)\n",
    "word_cloud2.generate(signatures)\n",
    "image_colors = ImageColorGenerator(back_coloring)\n",
    "plt.figure(figsize=(6,5),dpi=160)\n",
    "plt.imshow(word_cloud2.recolor(color_func=image_colors))\n",
    "plt.axis(\"off\")\n",
    "plt.show()\n",
    "word_cloud2.to_file(\"signatures.jpg\")\n",
    "#人生观\n",
    "count_positive = len(list(filter(lambda x:x>0.66,emotions)))#大于0.66为积极\n",
    "count_negative = len(list(filter(lambda x:x<0.33,emotions)))#小于0.33为消极\n",
    "count_neutral = len(list(filter(lambda x:x>=0.33 and x <= 0.66,emotions)))\n",
    "value=[count_positive,count_negative,count_neutral]\n",
    "att_attr=['积极','消极','中性']\n",
    "bar=Bar('个性签名情感分析',title_pos='center',width=800,height=500)\n",
    "bar.add('', att_attr, value, visual_range=[0, 200], is_visualmap=True, is_label_show=True)\n",
    "    #bar.add(\",att_attr,value,visual_range=[0, 200], is_visualmap=True, is_label_show=True)\n",
    "bar"
   ]
  },
  {
   "cell_type": "code",
   "execution_count": null,
   "metadata": {},
   "outputs": [],
   "source": [
    "#下载好友头像\n",
    "basePath = os.path.abspath('.')\n",
    "baseFolder = basePath + '\\\\HeadImages\\\\'\n",
    "if(os.path.exists(baseFolder) == False):\n",
    "    os.makedirs(baseFolder)\n",
    "\n",
    "# Analyse Images\n",
    "image_tags = ''\n",
    "for index in range(1,2):\n",
    "    friend = friends[index]\n",
    "# Save HeadImages\n",
    "    imgFile = baseFolder + '\\\\Image%s.jpg' % str(index)\n",
    "    imgData = itchat.get_head_img(userName = friend['UserName'])\n",
    "    if(os.path.exists(imgFile) == False):\n",
    "        with open(imgFile,'wb') as file:\n",
    "             file.write(imgData)"
   ]
  },
  {
   "cell_type": "code",
   "execution_count": null,
   "metadata": {},
   "outputs": [],
   "source": [
    "from PIL import Image\n",
    "import matplotlib.pyplot as plt\n",
    "img=Image.open(\"/Users/ls/Desktop/numpydemo/weixin/faces.jpg\")\n",
    "plt.figure(\"好友头像\")\n",
    "plt.imshow(img)\n",
    "plt.show()"
   ]
  },
  {
   "cell_type": "code",
   "execution_count": null,
   "metadata": {},
   "outputs": [],
   "source": [
    "from aip import AipFace\n",
    "import base64\n",
    "APP_ID  = \"17777086\"\n",
    "API_KEY = \"VqGadasdibjzadsEFabRgnGZESLCs\"  #请替换为自己的apikey，注册地址https://login.bce.baidu.com/?account=\n",
    "SECRET_KEY = \"WcZwZPQymL6Ba9WS4U8zAO0cemj6FUN3\"\n",
    "client = AipFace(APP_ID, API_KEY, SECRET_KEY) #初始化aipface对象"
   ]
  },
  {
   "cell_type": "code",
   "execution_count": null,
   "metadata": {},
   "outputs": [],
   "source": [
    "filepath = \"/Users/ls/Desktop/numpydemo/weixin/faces.jpg\"\n",
    "with open(filepath, \"rb\") as fp:\n",
    "    base64_data = base64.b64encode(fp.read())\n",
    "image = str(base64_data, 'utf-8')\n",
    "imageType = \"BASE64\"\n",
    "options = {}\n",
    "options[\"face_field\"] = \"age,gender,beauty,expression\"\n",
    "options[\"max_face_num\"] = 10\n",
    "options[\"face_type\"] = \"LIVE\"\n",
    "result = client.detect(image, imageType, options)\n",
    "#print(result)"
   ]
  },
  {
   "cell_type": "code",
   "execution_count": null,
   "metadata": {},
   "outputs": [],
   "source": [
    "import pandas as pd\n",
    "facelist=result['result']['face_list']\n",
    "output=pd.DataFrame(facelist)\n",
    "output.drop(['angle','face_token'],axis=1,inplace=True)\n",
    "output.head()"
   ]
  },
  {
   "cell_type": "code",
   "execution_count": null,
   "metadata": {
    "scrolled": true
   },
   "outputs": [],
   "source": [
    "import cv2\n",
    "import matplotlib.pyplot as plt\n",
    "img=cv2.imread('faces.jpg')\n",
    "location=result['result']['face_list'][0]['location']\n",
    "left_top=(location['left'],location['top'])\n",
    "right_bottom=(left_top[0]+location['width'],left_top[1]+location['height'])\n",
    "cv2.rectangle(img,(282,219),(328,264),(255,0,0),2)#周迅\n",
    "cv2.rectangle(img,(206,40),(246,80),(255,0,0),2) #杜鹃\n",
    "cv2.rectangle(img,(344,40),(384,85),(255,0,0),2)#李宇春\n",
    "cv2.rectangle(img,(154,190),(194,230),(255,0,0),2)#章子怡\n",
    "cv2.rectangle(img,(87,119),(125,159),(255,0,0),2)#李冰冰\n",
    "#cv2.imshow('img',img)\n",
    "plt.imshow(img)\n",
    "plt.show()"
   ]
  },
  {
   "cell_type": "code",
   "execution_count": null,
   "metadata": {},
   "outputs": [],
   "source": []
  },
  {
   "cell_type": "code",
   "execution_count": null,
   "metadata": {},
   "outputs": [],
   "source": []
  }
 ],
 "metadata": {
  "kernelspec": {
   "display_name": "Python 3",
   "language": "python",
   "name": "python3"
  },
  "language_info": {
   "codemirror_mode": {
    "name": "ipython",
    "version": 3
   },
   "file_extension": ".py",
   "mimetype": "text/x-python",
   "name": "python",
   "nbconvert_exporter": "python",
   "pygments_lexer": "ipython3",
   "version": "3.6.5"
  }
 },
 "nbformat": 4,
 "nbformat_minor": 2
}
